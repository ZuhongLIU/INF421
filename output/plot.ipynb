import numpy as np
import matplotlib.pyplot as plt
def openreadtxt(file_name,colonne):
    data = []
    file = open(file_name,'r')  #打开文件
    file_data = file.readlines() #读取所有行
    for row in file_data:
        tmp_list = row.split(' ') #按‘，’切分每行的数据
        #tmp_list[-1] = tmp_list[-1].replace('\n',',') #去掉换行符
        data.append(float(tmp_list[colonne])) #将每行数据插入data中
    return data
vertices = openreadtxt("/mnt/c/Users/gaoxueying/Desktop/polytechnique/INF421/INF421/output/time.txt",1)
times = openreadtxt("/mnt/c/Users/gaoxueying/Desktop/polytechnique/INF421/INF421/output/time.txt",5)
print(vertices,times)
plt.plot(vertices,times)
plt.scatter(vertices,times)
plt.xlabel("Number of vertices")
plt.ylabel("Time cost (ms)")
plt.show()
